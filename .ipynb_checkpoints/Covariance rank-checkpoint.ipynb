{
 "metadata": {
  "name": "",
  "signature": "sha256:8240a2d0cac476c882b0f1956c4244a8a2605ed85a317fc919f583e705690e17"
 },
 "nbformat": 3,
 "nbformat_minor": 0,
 "worksheets": []
}